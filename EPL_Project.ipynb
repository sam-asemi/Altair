{
 "cells": [
  {
   "cell_type": "markdown",
   "metadata": {},
   "source": [
    "## A Brief Recap of Data, Goals, and Tasks\n",
    "\n",
    "- The dataset used for this project is an English soccer dataset sourced from Kaggle, containing match results, goals scored, cards issued, and other performance metrics across multiple seasons. The primary goal of this visualization project is to explore key trends and insights in English soccer, focusing on:\n",
    "\n",
    "- The total number of goals scored per season.\n",
    "\n",
    "- The number of wins per team.\n",
    "\n",
    "- The distribution of yellow and red cards across teams.\n",
    "\n",
    "- The relationship between goals scored and goals conceded per team.\n",
    "\n",
    "- These tasks directly influenced the choice of visualizations, ensuring that the insights are presented in an intuitive and interactive manner."
   ]
  },
  {
   "cell_type": "code",
   "execution_count": null,
   "metadata": {},
   "outputs": [],
   "source": [
    "import polars as pl\n",
    "import pyarrow as pa\n",
    "import altair as alt\n",
    "import voila\n",
    "\n",
    "\n",
    "data = pl.read_csv('/Users/siamakasemiesfahani/Downloads/EPL Dataset.csv')\n",
    "data = (\n",
    "    data.with_columns(\n",
    "        [\n",
    "            pl.col(\"Date\").str.to_date(\"%d/%m/%Y\"),\n",
    "            (pl.col('FTH Goals') + pl.col('FTA Goals')).alias('Total Goals')\n",
    "        ]\n",
    "    )\n",
    ")"
   ]
  },
  {
   "cell_type": "code",
   "execution_count": 2,
   "metadata": {},
   "outputs": [
    {
     "data": {
      "text/html": [
       "<div><style>\n",
       ".dataframe > thead > tr,\n",
       ".dataframe > tbody > tr {\n",
       "  text-align: right;\n",
       "  white-space: pre-wrap;\n",
       "}\n",
       "</style>\n",
       "<small>shape: (5, 26)</small><table border=\"1\" class=\"dataframe\"><thead><tr><th>Date</th><th>Season</th><th>HomeTeam</th><th>AwayTeam</th><th>FTH Goals</th><th>FTA Goals</th><th>FT Result</th><th>HTH Goals</th><th>HTA Goals</th><th>HT Result</th><th>Referee</th><th>H Shots</th><th>A Shots</th><th>H SOT</th><th>A SOT</th><th>H Fouls</th><th>A Fouls</th><th>H Corners</th><th>A Corners</th><th>H Yellow</th><th>A Yellow</th><th>H Red</th><th>A Red</th><th>Display_Order</th><th>League</th><th>Total Goals</th></tr><tr><td>date</td><td>str</td><td>str</td><td>str</td><td>i64</td><td>i64</td><td>str</td><td>i64</td><td>i64</td><td>str</td><td>str</td><td>i64</td><td>i64</td><td>i64</td><td>i64</td><td>i64</td><td>i64</td><td>i64</td><td>i64</td><td>i64</td><td>i64</td><td>i64</td><td>i64</td><td>i64</td><td>str</td><td>i64</td></tr></thead><tbody><tr><td>2025-01-16</td><td>&quot;2024/25&quot;</td><td>&quot;Ipswich Town&quot;</td><td>&quot;Brighton &amp; Hove Albion&quot;</td><td>0</td><td>2</td><td>&quot;A&quot;</td><td>0</td><td>1</td><td>&quot;A&quot;</td><td>&quot;T Harrington&quot;</td><td>5</td><td>11</td><td>3</td><td>5</td><td>13</td><td>14</td><td>1</td><td>9</td><td>2</td><td>2</td><td>0</td><td>0</td><td>20250116</td><td>&quot;Premier League&quot;</td><td>2</td></tr><tr><td>2025-01-16</td><td>&quot;2024/25&quot;</td><td>&quot;Man United&quot;</td><td>&quot;Southampton&quot;</td><td>3</td><td>1</td><td>&quot;H&quot;</td><td>0</td><td>1</td><td>&quot;A&quot;</td><td>&quot;J Brooks&quot;</td><td>23</td><td>13</td><td>9</td><td>5</td><td>7</td><td>10</td><td>4</td><td>4</td><td>1</td><td>3</td><td>0</td><td>0</td><td>20250116</td><td>&quot;Premier League&quot;</td><td>4</td></tr><tr><td>2025-01-15</td><td>&quot;2024/25&quot;</td><td>&quot;Everton&quot;</td><td>&quot;Aston Villa&quot;</td><td>0</td><td>1</td><td>&quot;A&quot;</td><td>0</td><td>0</td><td>&quot;D&quot;</td><td>&quot;S Barrott&quot;</td><td>10</td><td>11</td><td>3</td><td>3</td><td>17</td><td>10</td><td>8</td><td>5</td><td>2</td><td>1</td><td>0</td><td>0</td><td>20250115</td><td>&quot;Premier League&quot;</td><td>1</td></tr><tr><td>2025-01-15</td><td>&quot;2024/25&quot;</td><td>&quot;Leicester&quot;</td><td>&quot;Crystal Palace&quot;</td><td>0</td><td>2</td><td>&quot;A&quot;</td><td>0</td><td>0</td><td>&quot;D&quot;</td><td>&quot;A Madley&quot;</td><td>21</td><td>9</td><td>4</td><td>4</td><td>7</td><td>6</td><td>4</td><td>3</td><td>0</td><td>0</td><td>0</td><td>0</td><td>20250115</td><td>&quot;Premier League&quot;</td><td>2</td></tr><tr><td>2025-01-15</td><td>&quot;2024/25&quot;</td><td>&quot;Newcastle&quot;</td><td>&quot;Wolves&quot;</td><td>3</td><td>0</td><td>&quot;H&quot;</td><td>1</td><td>0</td><td>&quot;H&quot;</td><td>&quot;D England&quot;</td><td>17</td><td>13</td><td>5</td><td>7</td><td>10</td><td>13</td><td>4</td><td>2</td><td>0</td><td>2</td><td>0</td><td>0</td><td>20250115</td><td>&quot;Premier League&quot;</td><td>3</td></tr></tbody></table></div>"
      ],
      "text/plain": [
       "shape: (5, 26)\n",
       "┌──────────────┬─────────┬──────────────┬──────────────┬───┬───────┬─────────────┬─────────┬───────┐\n",
       "│ Date         ┆ Season  ┆ HomeTeam     ┆ AwayTeam     ┆ … ┆ A Red ┆ Display_Ord ┆ League  ┆ Total │\n",
       "│ ---          ┆ ---     ┆ ---          ┆ ---          ┆   ┆ ---   ┆ er          ┆ ---     ┆ Goals │\n",
       "│ date         ┆ str     ┆ str          ┆ str          ┆   ┆ i64   ┆ ---         ┆ str     ┆ ---   │\n",
       "│              ┆         ┆              ┆              ┆   ┆       ┆ i64         ┆         ┆ i64   │\n",
       "╞══════════════╪═════════╪══════════════╪══════════════╪═══╪═══════╪═════════════╪═════════╪═══════╡\n",
       "│ 2025-01-16   ┆ 2024/25 ┆ Ipswich Town ┆ Brighton &   ┆ … ┆ 0     ┆ 20250116    ┆ Premier ┆ 2     │\n",
       "│              ┆         ┆              ┆ Hove Albion  ┆   ┆       ┆             ┆ League  ┆       │\n",
       "│ 2025-01-16   ┆ 2024/25 ┆ Man United   ┆ Southampton  ┆ … ┆ 0     ┆ 20250116    ┆ Premier ┆ 4     │\n",
       "│              ┆         ┆              ┆              ┆   ┆       ┆             ┆ League  ┆       │\n",
       "│ 2025-01-15   ┆ 2024/25 ┆ Everton      ┆ Aston Villa  ┆ … ┆ 0     ┆ 20250115    ┆ Premier ┆ 1     │\n",
       "│              ┆         ┆              ┆              ┆   ┆       ┆             ┆ League  ┆       │\n",
       "│ 2025-01-15   ┆ 2024/25 ┆ Leicester    ┆ Crystal      ┆ … ┆ 0     ┆ 20250115    ┆ Premier ┆ 2     │\n",
       "│              ┆         ┆              ┆ Palace       ┆   ┆       ┆             ┆ League  ┆       │\n",
       "│ 2025-01-15   ┆ 2024/25 ┆ Newcastle    ┆ Wolves       ┆ … ┆ 0     ┆ 20250115    ┆ Premier ┆ 3     │\n",
       "│              ┆         ┆              ┆              ┆   ┆       ┆             ┆ League  ┆       │\n",
       "└──────────────┴─────────┴──────────────┴──────────────┴───┴───────┴─────────────┴─────────┴───────┘"
      ]
     },
     "execution_count": 2,
     "metadata": {},
     "output_type": "execute_result"
    }
   ],
   "source": [
    "data.head()"
   ]
  },
  {
   "cell_type": "code",
   "execution_count": 3,
   "metadata": {},
   "outputs": [],
   "source": [
    "def plot_goals_per_season():\n",
    "    \"\"\"Plots the total goals scored per season.\"\"\"\n",
    "    goals_per_season = data.group_by(\"Season\").agg(pl.col(\"Total Goals\").sum())\n",
    "    \n",
    "    return alt.Chart(goals_per_season.to_pandas()).mark_line(point=True).encode(\n",
    "        x=alt.X('Season:O', title='Season'),\n",
    "        y=alt.Y('Total Goals:Q', title='Total Goals Scored'),\n",
    "        tooltip=['Season', 'Total Goals']\n",
    "    ).properties(title='Total Goals Scored per Season').interactive()\n",
    "\n",
    "def plot_team_wins():\n",
    "    \"\"\"Plots the number of wins per team.\"\"\"\n",
    "    wins = data.filter(pl.col(\"FT Result\") == \"H\").group_by(\"HomeTeam\").agg(pl.count().alias(\"Wins\"))\n",
    "    \n",
    "    return alt.Chart(wins.to_pandas()).mark_bar().encode(\n",
    "        x=alt.X('Wins:Q', title='Number of Wins'),\n",
    "        y=alt.Y('HomeTeam:N', sort='-x', title='Team'),\n",
    "        tooltip=['HomeTeam', 'Wins']\n",
    "    ).properties(title='Total Wins per Team').interactive()\n",
    "\n",
    "def plot_cards():\n",
    "    \"\"\"Plots yellow and red cards per team.\"\"\"\n",
    "    cards = data.group_by(\"HomeTeam\").agg(\n",
    "        pl.col(\"H Yellow\").sum().alias(\"Yellow Cards\"),\n",
    "        pl.col(\"H Red\").sum().alias(\"Red Cards\")\n",
    "    )\n",
    "    \n",
    "    melted_cards = cards.melt(id_vars=['HomeTeam'], variable_name='Card Type', value_name='Count')\n",
    "    \n",
    "    return alt.Chart(melted_cards.to_pandas()).mark_bar().encode(\n",
    "        x=alt.X('Count:Q', title='Number of Cards'),\n",
    "        y=alt.Y('HomeTeam:N', sort='-x', title='Team'),\n",
    "        color=alt.Color('Card Type:N', title=\"Type of Card\"),\n",
    "        tooltip=['HomeTeam', 'Card Type', 'Count']\n",
    "    ).properties(title='Yellow & Red Cards per Team').interactive()\n",
    "\n",
    "def plot_goals_scored_vs_conceded():\n",
    "    \"\"\"Plots total goals scored vs goals conceded per team.\"\"\"\n",
    "    goals = data.group_by(\"HomeTeam\").agg(\n",
    "        pl.col(\"FTH Goals\").sum().alias(\"Total Goals Scored\"),\n",
    "        pl.col(\"FTA Goals\").sum().alias(\"Total Goals Conceded\")\n",
    "    )\n",
    "    \n",
    "    return alt.Chart(goals.to_pandas()).mark_circle(size=80).encode(\n",
    "        x=alt.X('Total Goals Scored:Q', title='Total Goals Scored'),\n",
    "        y=alt.Y('Total Goals Conceded:Q', title='Total Goals Conceded'),\n",
    "        size=\"Total Goals Scored\",\n",
    "        color=alt.Color('HomeTeam:N', legend=None),\n",
    "        tooltip=['HomeTeam', 'Total Goals Scored', 'Total Goals Conceded']\n",
    "    ).properties(title='Goals Scored vs Goals Conceded per Team').interactive()\n"
   ]
  },
  {
   "cell_type": "markdown",
   "metadata": {},
   "source": [
    "### Line Chart (Goals per Season): This chart was chosen to visualize trends in goal-scoring across seasons, helping to identify increases or declines over time.\n",
    "\n",
    "### Scatter Plot (Goals Scored vs. Goals Conceded): A scatter plot effectively shows the relationship between goals scored and conceded, helping identify teams with strong offensive or defensive performances."
   ]
  },
  {
   "cell_type": "code",
   "execution_count": 5,
   "metadata": {},
   "outputs": [
    {
     "data": {
      "text/html": [
       "\n",
       "<style>\n",
       "  #altair-viz-abc8b58b91e74a4aba3a5d93c06fe0fd.vega-embed {\n",
       "    width: 100%;\n",
       "    display: flex;\n",
       "  }\n",
       "\n",
       "  #altair-viz-abc8b58b91e74a4aba3a5d93c06fe0fd.vega-embed details,\n",
       "  #altair-viz-abc8b58b91e74a4aba3a5d93c06fe0fd.vega-embed details summary {\n",
       "    position: relative;\n",
       "  }\n",
       "</style>\n",
       "<div id=\"altair-viz-abc8b58b91e74a4aba3a5d93c06fe0fd\"></div>\n",
       "<script type=\"text/javascript\">\n",
       "  var VEGA_DEBUG = (typeof VEGA_DEBUG == \"undefined\") ? {} : VEGA_DEBUG;\n",
       "  (function(spec, embedOpt){\n",
       "    let outputDiv = document.currentScript.previousElementSibling;\n",
       "    if (outputDiv.id !== \"altair-viz-abc8b58b91e74a4aba3a5d93c06fe0fd\") {\n",
       "      outputDiv = document.getElementById(\"altair-viz-abc8b58b91e74a4aba3a5d93c06fe0fd\");\n",
       "    }\n",
       "\n",
       "    const paths = {\n",
       "      \"vega\": \"https://cdn.jsdelivr.net/npm/vega@5?noext\",\n",
       "      \"vega-lib\": \"https://cdn.jsdelivr.net/npm/vega-lib?noext\",\n",
       "      \"vega-lite\": \"https://cdn.jsdelivr.net/npm/vega-lite@5.20.1?noext\",\n",
       "      \"vega-embed\": \"https://cdn.jsdelivr.net/npm/vega-embed@6?noext\",\n",
       "    };\n",
       "\n",
       "    function maybeLoadScript(lib, version) {\n",
       "      var key = `${lib.replace(\"-\", \"\")}_version`;\n",
       "      return (VEGA_DEBUG[key] == version) ?\n",
       "        Promise.resolve(paths[lib]) :\n",
       "        new Promise(function(resolve, reject) {\n",
       "          var s = document.createElement('script');\n",
       "          document.getElementsByTagName(\"head\")[0].appendChild(s);\n",
       "          s.async = true;\n",
       "          s.onload = () => {\n",
       "            VEGA_DEBUG[key] = version;\n",
       "            return resolve(paths[lib]);\n",
       "          };\n",
       "          s.onerror = () => reject(`Error loading script: ${paths[lib]}`);\n",
       "          s.src = paths[lib];\n",
       "        });\n",
       "    }\n",
       "\n",
       "    function showError(err) {\n",
       "      outputDiv.innerHTML = `<div class=\"error\" style=\"color:red;\">${err}</div>`;\n",
       "      throw err;\n",
       "    }\n",
       "\n",
       "    function displayChart(vegaEmbed) {\n",
       "      vegaEmbed(outputDiv, spec, embedOpt)\n",
       "        .catch(err => showError(`Javascript Error: ${err.message}<br>This usually means there's a typo in your chart specification. See the javascript console for the full traceback.`));\n",
       "    }\n",
       "\n",
       "    if(typeof define === \"function\" && define.amd) {\n",
       "      requirejs.config({paths});\n",
       "      let deps = [\"vega-embed\"];\n",
       "      require(deps, displayChart, err => showError(`Error loading script: ${err.message}`));\n",
       "    } else {\n",
       "      maybeLoadScript(\"vega\", \"5\")\n",
       "        .then(() => maybeLoadScript(\"vega-lite\", \"5.20.1\"))\n",
       "        .then(() => maybeLoadScript(\"vega-embed\", \"6\"))\n",
       "        .catch(showError)\n",
       "        .then(() => displayChart(vegaEmbed));\n",
       "    }\n",
       "  })({\"config\": {\"view\": {\"continuousWidth\": 300, \"continuousHeight\": 300}}, \"hconcat\": [{\"data\": {\"name\": \"data-bd4cc9590db39cf5c52c2b6abfa950e4\"}, \"mark\": {\"type\": \"line\", \"point\": true}, \"encoding\": {\"tooltip\": [{\"field\": \"Season\", \"type\": \"nominal\"}, {\"field\": \"Total Goals\", \"type\": \"quantitative\"}], \"x\": {\"field\": \"Season\", \"title\": \"Season\", \"type\": \"ordinal\"}, \"y\": {\"field\": \"Total Goals\", \"title\": \"Total Goals Scored\", \"type\": \"quantitative\"}}, \"name\": \"view_1\", \"title\": \"Total Goals Scored per Season\"}, {\"data\": {\"name\": \"data-ef078c6a3b55eb007ffedcbb579e4c16\"}, \"mark\": {\"type\": \"circle\", \"size\": 80}, \"encoding\": {\"color\": {\"field\": \"HomeTeam\", \"legend\": null, \"type\": \"nominal\"}, \"size\": {\"field\": \"Total Goals Scored\", \"type\": \"quantitative\"}, \"tooltip\": [{\"field\": \"HomeTeam\", \"type\": \"nominal\"}, {\"field\": \"Total Goals Scored\", \"type\": \"quantitative\"}, {\"field\": \"Total Goals Conceded\", \"type\": \"quantitative\"}], \"x\": {\"field\": \"Total Goals Scored\", \"title\": \"Total Goals Scored\", \"type\": \"quantitative\"}, \"y\": {\"field\": \"Total Goals Conceded\", \"title\": \"Total Goals Conceded\", \"type\": \"quantitative\"}}, \"name\": \"view_2\", \"title\": \"Goals Scored vs Goals Conceded per Team\"}], \"params\": [{\"name\": \"param_2\", \"select\": {\"type\": \"interval\", \"encodings\": [\"x\", \"y\"]}, \"bind\": \"scales\", \"views\": [\"view_1\"]}, {\"name\": \"param_3\", \"select\": {\"type\": \"interval\", \"encodings\": [\"x\", \"y\"]}, \"bind\": \"scales\", \"views\": [\"view_2\"]}], \"$schema\": \"https://vega.github.io/schema/vega-lite/v5.20.1.json\", \"datasets\": {\"data-bd4cc9590db39cf5c52c2b6abfa950e4\": [{\"Season\": \"2011/12\", \"Total Goals\": 1066}, {\"Season\": \"2021/22\", \"Total Goals\": 1071}, {\"Season\": \"2018/19\", \"Total Goals\": 1072}, {\"Season\": \"1998/99\", \"Total Goals\": 959}, {\"Season\": \"2017/18\", \"Total Goals\": 1018}, {\"Season\": \"2023/24\", \"Total Goals\": 1246}, {\"Season\": \"2000/01\", \"Total Goals\": 992}, {\"Season\": \"2009/10\", \"Total Goals\": 1053}, {\"Season\": \"2013/14\", \"Total Goals\": 1052}, {\"Season\": \"1996/97\", \"Total Goals\": 970}, {\"Season\": \"2002/03\", \"Total Goals\": 1000}, {\"Season\": \"2008/09\", \"Total Goals\": 942}, {\"Season\": \"2019/20\", \"Total Goals\": 1034}, {\"Season\": \"2006/07\", \"Total Goals\": 931}, {\"Season\": \"2015/16\", \"Total Goals\": 1026}, {\"Season\": \"2004/05\", \"Total Goals\": 975}, {\"Season\": \"2020/21\", \"Total Goals\": 1024}, {\"Season\": \"2024/25\", \"Total Goals\": 623}, {\"Season\": \"1994/95\", \"Total Goals\": 1195}, {\"Season\": \"2003/04\", \"Total Goals\": 1012}, {\"Season\": \"2005/06\", \"Total Goals\": 944}, {\"Season\": \"1993/94\", \"Total Goals\": 1195}, {\"Season\": \"2016/17\", \"Total Goals\": 1064}, {\"Season\": \"2012/13\", \"Total Goals\": 1063}, {\"Season\": \"1999/00\", \"Total Goals\": 1060}, {\"Season\": \"2014/15\", \"Total Goals\": 975}, {\"Season\": \"1995/96\", \"Total Goals\": 988}, {\"Season\": \"2007/08\", \"Total Goals\": 1002}, {\"Season\": \"2010/11\", \"Total Goals\": 1063}, {\"Season\": \"2001/02\", \"Total Goals\": 1001}, {\"Season\": \"1997/98\", \"Total Goals\": 1019}, {\"Season\": \"2022/23\", \"Total Goals\": 1084}], \"data-ef078c6a3b55eb007ffedcbb579e4c16\": [{\"HomeTeam\": \"Portsmouth\", \"Total Goals Scored\": 184, \"Total Goals Conceded\": 159}, {\"HomeTeam\": \"Hull\", \"Total Goals Scored\": 107, \"Total Goals Conceded\": 145}, {\"HomeTeam\": \"Man City\", \"Total Goals Scored\": 1059, \"Total Goals Conceded\": 480}, {\"HomeTeam\": \"Bradford\", \"Total Goals Scored\": 46, \"Total Goals Conceded\": 58}, {\"HomeTeam\": \"Blackburn\", \"Total Goals Scored\": 507, \"Total Goals Conceded\": 363}, {\"HomeTeam\": \"Ipswich\", \"Total Goals Scored\": 104, \"Total Goals Conceded\": 121}, {\"HomeTeam\": \"Swansea\", \"Total Goals Scored\": 179, \"Total Goals Conceded\": 170}, {\"HomeTeam\": \"Man United\", \"Total Goals Scored\": 1258, \"Total Goals Conceded\": 469}, {\"HomeTeam\": \"Leicester\", \"Total Goals Scored\": 469, \"Total Goals Conceded\": 435}, {\"HomeTeam\": \"Tottenham\", \"Total Goals Scored\": 1056, \"Total Goals Conceded\": 666}, {\"HomeTeam\": \"Cardiff\", \"Total Goals Scored\": 41, \"Total Goals Conceded\": 73}, {\"HomeTeam\": \"Sheffield Weds\", \"Total Goals Scored\": 200, \"Total Goals Conceded\": 161}, {\"HomeTeam\": \"Swindon\", \"Total Goals Scored\": 25, \"Total Goals Conceded\": 45}, {\"HomeTeam\": \"West Brom\", \"Total Goals Scored\": 295, \"Total Goals Conceded\": 361}, {\"HomeTeam\": \"Charlton\", \"Total Goals Scored\": 199, \"Total Goals Conceded\": 198}, {\"HomeTeam\": \"Liverpool\", \"Total Goals Scored\": 1230, \"Total Goals Conceded\": 482}, {\"HomeTeam\": \"West Ham\", \"Total Goals Scored\": 803, \"Total Goals Conceded\": 711}, {\"HomeTeam\": \"Barnsley\", \"Total Goals Scored\": 25, \"Total Goals Conceded\": 35}, {\"HomeTeam\": \"Aston Villa\", \"Total Goals Scored\": 748, \"Total Goals Conceded\": 623}, {\"HomeTeam\": \"Chelsea\", \"Total Goals Scored\": 1173, \"Total Goals Conceded\": 521}, {\"HomeTeam\": \"Nott'm Forest\", \"Total Goals Scored\": 164, \"Total Goals Conceded\": 155}, {\"HomeTeam\": \"Derby\", \"Total Goals Scored\": 157, \"Total Goals Conceded\": 177}, {\"HomeTeam\": \"Brighton & Hove Albion\", \"Total Goals Scored\": 0, \"Total Goals Conceded\": 0}, {\"HomeTeam\": \"Fulham\", \"Total Goals Scored\": 460, \"Total Goals Conceded\": 433}, {\"HomeTeam\": \"Southampton\", \"Total Goals Scored\": 624, \"Total Goals Conceded\": 585}, {\"HomeTeam\": \"Birmingham\", \"Total Goals Scored\": 162, \"Total Goals Conceded\": 140}, {\"HomeTeam\": \"Sunderland\", \"Total Goals Scored\": 336, \"Total Goals Conceded\": 371}, {\"HomeTeam\": \"Newcastle\", \"Total Goals Scored\": 934, \"Total Goals Conceded\": 635}, {\"HomeTeam\": \"Arsenal\", \"Total Goals Scored\": 1250, \"Total Goals Conceded\": 517}, {\"HomeTeam\": \"Brighton\", \"Total Goals Scored\": 185, \"Total Goals Conceded\": 186}, {\"HomeTeam\": \"Brentford\", \"Total Goals Scored\": 115, \"Total Goals Conceded\": 94}, {\"HomeTeam\": \"Reading\", \"Total Goals Scored\": 71, \"Total Goals Conceded\": 78}, {\"HomeTeam\": \"QPR\", \"Total Goals Scored\": 153, \"Total Goals Conceded\": 158}, {\"HomeTeam\": \"Ipswich Town\", \"Total Goals Scored\": 0, \"Total Goals Conceded\": 2}, {\"HomeTeam\": \"Crystal Palace\", \"Total Goals Scored\": 312, \"Total Goals Conceded\": 364}, {\"HomeTeam\": \"Bournemouth\", \"Total Goals Scored\": 195, \"Total Goals Conceded\": 211}, {\"HomeTeam\": \"Stoke\", \"Total Goals Scored\": 248, \"Total Goals Conceded\": 213}, {\"HomeTeam\": \"Huddersfield\", \"Total Goals Scored\": 26, \"Total Goals Conceded\": 56}, {\"HomeTeam\": \"Wigan\", \"Total Goals Scored\": 169, \"Total Goals Conceded\": 215}, {\"HomeTeam\": \"Wolves\", \"Total Goals Scored\": 240, \"Total Goals Conceded\": 293}, {\"HomeTeam\": \"Watford\", \"Total Goals Scored\": 180, \"Total Goals Conceded\": 236}, {\"HomeTeam\": \"Blackpool\", \"Total Goals Scored\": 30, \"Total Goals Conceded\": 37}, {\"HomeTeam\": \"Burnley\", \"Total Goals Scored\": 180, \"Total Goals Conceded\": 238}, {\"HomeTeam\": \"Bolton\", \"Total Goals Scored\": 319, \"Total Goals Conceded\": 313}, {\"HomeTeam\": \"Wimbledon\", \"Total Goals Scored\": 186, \"Total Goals Conceded\": 175}, {\"HomeTeam\": \"Luton\", \"Total Goals Scored\": 28, \"Total Goals Conceded\": 37}, {\"HomeTeam\": \"Everton\", \"Total Goals Scored\": 902, \"Total Goals Conceded\": 669}, {\"HomeTeam\": \"Oldham\", \"Total Goals Scored\": 24, \"Total Goals Conceded\": 33}, {\"HomeTeam\": \"Coventry\", \"Total Goals Scored\": 190, \"Total Goals Conceded\": 171}, {\"HomeTeam\": \"Sheffield United\", \"Total Goals Scored\": 103, \"Total Goals Conceded\": 143}, {\"HomeTeam\": \"Middlesbrough\", \"Total Goals Scored\": 360, \"Total Goals Conceded\": 328}, {\"HomeTeam\": \"Norwich\", \"Total Goals Scored\": 209, \"Total Goals Conceded\": 260}, {\"HomeTeam\": \"Leeds\", \"Total Goals Scored\": 390, \"Total Goals Conceded\": 310}]}}, {\"mode\": \"vega-lite\"});\n",
       "</script>"
      ],
      "text/plain": [
       "alt.HConcatChart(...)"
      ]
     },
     "execution_count": 5,
     "metadata": {},
     "output_type": "execute_result"
    }
   ],
   "source": [
    "plot_goals_per_season() | plot_goals_scored_vs_conceded()"
   ]
  },
  {
   "cell_type": "markdown",
   "metadata": {},
   "source": [
    "### Bar Chart (Wins per Team): A bar chart effectively displays categorical data, making it easy to compare teams based on their win counts.\n",
    "\n",
    "### Stacked Bar Chart (Yellow & Red Cards per Team): This format clearly differentiates between the types of disciplinary actions teams have received."
   ]
  },
  {
   "cell_type": "code",
   "execution_count": 6,
   "metadata": {},
   "outputs": [
    {
     "name": "stderr",
     "output_type": "stream",
     "text": [
      "/var/folders/zy/s1ckvr7j4zqdbfy1pxp2ymhc0000gn/T/ipykernel_13336/1136575195.py:28: DeprecationWarning: `DataFrame.melt` is deprecated. Use `unpivot` instead, with `index` instead of `id_vars` and `on` instead of `value_vars`\n",
      "  melted_cards = cards.melt(id_vars=['HomeTeam'], variable_name='Card Type', value_name='Count')\n",
      "/var/folders/zy/s1ckvr7j4zqdbfy1pxp2ymhc0000gn/T/ipykernel_13336/1136575195.py:13: DeprecationWarning: `pl.count()` is deprecated. Please use `pl.len()` instead.\n",
      "  wins = data.filter(pl.col(\"FT Result\") == \"H\").group_by(\"HomeTeam\").agg(pl.count().alias(\"Wins\"))\n"
     ]
    },
    {
     "data": {
      "text/html": [
       "\n",
       "<style>\n",
       "  #altair-viz-d0a0fb422c354671bbe8e57892672b23.vega-embed {\n",
       "    width: 100%;\n",
       "    display: flex;\n",
       "  }\n",
       "\n",
       "  #altair-viz-d0a0fb422c354671bbe8e57892672b23.vega-embed details,\n",
       "  #altair-viz-d0a0fb422c354671bbe8e57892672b23.vega-embed details summary {\n",
       "    position: relative;\n",
       "  }\n",
       "</style>\n",
       "<div id=\"altair-viz-d0a0fb422c354671bbe8e57892672b23\"></div>\n",
       "<script type=\"text/javascript\">\n",
       "  var VEGA_DEBUG = (typeof VEGA_DEBUG == \"undefined\") ? {} : VEGA_DEBUG;\n",
       "  (function(spec, embedOpt){\n",
       "    let outputDiv = document.currentScript.previousElementSibling;\n",
       "    if (outputDiv.id !== \"altair-viz-d0a0fb422c354671bbe8e57892672b23\") {\n",
       "      outputDiv = document.getElementById(\"altair-viz-d0a0fb422c354671bbe8e57892672b23\");\n",
       "    }\n",
       "\n",
       "    const paths = {\n",
       "      \"vega\": \"https://cdn.jsdelivr.net/npm/vega@5?noext\",\n",
       "      \"vega-lib\": \"https://cdn.jsdelivr.net/npm/vega-lib?noext\",\n",
       "      \"vega-lite\": \"https://cdn.jsdelivr.net/npm/vega-lite@5.20.1?noext\",\n",
       "      \"vega-embed\": \"https://cdn.jsdelivr.net/npm/vega-embed@6?noext\",\n",
       "    };\n",
       "\n",
       "    function maybeLoadScript(lib, version) {\n",
       "      var key = `${lib.replace(\"-\", \"\")}_version`;\n",
       "      return (VEGA_DEBUG[key] == version) ?\n",
       "        Promise.resolve(paths[lib]) :\n",
       "        new Promise(function(resolve, reject) {\n",
       "          var s = document.createElement('script');\n",
       "          document.getElementsByTagName(\"head\")[0].appendChild(s);\n",
       "          s.async = true;\n",
       "          s.onload = () => {\n",
       "            VEGA_DEBUG[key] = version;\n",
       "            return resolve(paths[lib]);\n",
       "          };\n",
       "          s.onerror = () => reject(`Error loading script: ${paths[lib]}`);\n",
       "          s.src = paths[lib];\n",
       "        });\n",
       "    }\n",
       "\n",
       "    function showError(err) {\n",
       "      outputDiv.innerHTML = `<div class=\"error\" style=\"color:red;\">${err}</div>`;\n",
       "      throw err;\n",
       "    }\n",
       "\n",
       "    function displayChart(vegaEmbed) {\n",
       "      vegaEmbed(outputDiv, spec, embedOpt)\n",
       "        .catch(err => showError(`Javascript Error: ${err.message}<br>This usually means there's a typo in your chart specification. See the javascript console for the full traceback.`));\n",
       "    }\n",
       "\n",
       "    if(typeof define === \"function\" && define.amd) {\n",
       "      requirejs.config({paths});\n",
       "      let deps = [\"vega-embed\"];\n",
       "      require(deps, displayChart, err => showError(`Error loading script: ${err.message}`));\n",
       "    } else {\n",
       "      maybeLoadScript(\"vega\", \"5\")\n",
       "        .then(() => maybeLoadScript(\"vega-lite\", \"5.20.1\"))\n",
       "        .then(() => maybeLoadScript(\"vega-embed\", \"6\"))\n",
       "        .catch(showError)\n",
       "        .then(() => displayChart(vegaEmbed));\n",
       "    }\n",
       "  })({\"config\": {\"view\": {\"continuousWidth\": 300, \"continuousHeight\": 300}}, \"hconcat\": [{\"data\": {\"name\": \"data-4d00aba49f81008f11649ddba10a295f\"}, \"mark\": {\"type\": \"bar\"}, \"encoding\": {\"color\": {\"field\": \"Card Type\", \"title\": \"Type of Card\", \"type\": \"nominal\"}, \"tooltip\": [{\"field\": \"HomeTeam\", \"type\": \"nominal\"}, {\"field\": \"Card Type\", \"type\": \"nominal\"}, {\"field\": \"Count\", \"type\": \"quantitative\"}], \"x\": {\"field\": \"Count\", \"title\": \"Number of Cards\", \"type\": \"quantitative\"}, \"y\": {\"field\": \"HomeTeam\", \"sort\": \"-x\", \"title\": \"Team\", \"type\": \"nominal\"}}, \"name\": \"view_3\", \"title\": \"Yellow & Red Cards per Team\"}, {\"data\": {\"name\": \"data-c76252132ca7fb738f6d104094e7ba42\"}, \"mark\": {\"type\": \"bar\"}, \"encoding\": {\"tooltip\": [{\"field\": \"HomeTeam\", \"type\": \"nominal\"}, {\"field\": \"Wins\", \"type\": \"quantitative\"}], \"x\": {\"field\": \"Wins\", \"title\": \"Number of Wins\", \"type\": \"quantitative\"}, \"y\": {\"field\": \"HomeTeam\", \"sort\": \"-x\", \"title\": \"Team\", \"type\": \"nominal\"}}, \"name\": \"view_4\", \"title\": \"Total Wins per Team\"}], \"params\": [{\"name\": \"param_4\", \"select\": {\"type\": \"interval\", \"encodings\": [\"x\", \"y\"]}, \"bind\": \"scales\", \"views\": [\"view_3\"]}, {\"name\": \"param_5\", \"select\": {\"type\": \"interval\", \"encodings\": [\"x\", \"y\"]}, \"bind\": \"scales\", \"views\": [\"view_4\"]}], \"$schema\": \"https://vega.github.io/schema/vega-lite/v5.20.1.json\", \"datasets\": {\"data-4d00aba49f81008f11649ddba10a295f\": [{\"HomeTeam\": \"Blackburn\", \"Card Type\": \"Yellow Cards\", \"Count\": 342}, {\"HomeTeam\": \"Nott'm Forest\", \"Card Type\": \"Yellow Cards\", \"Count\": 93}, {\"HomeTeam\": \"Newcastle\", \"Card Type\": \"Yellow Cards\", \"Count\": 620}, {\"HomeTeam\": \"Coventry\", \"Card Type\": \"Yellow Cards\", \"Count\": 25}, {\"HomeTeam\": \"Norwich\", \"Card Type\": \"Yellow Cards\", \"Count\": 189}, {\"HomeTeam\": \"Bradford\", \"Card Type\": \"Yellow Cards\", \"Count\": 27}, {\"HomeTeam\": \"Swansea\", \"Card Type\": \"Yellow Cards\", \"Count\": 188}, {\"HomeTeam\": \"Sunderland\", \"Card Type\": \"Yellow Cards\", \"Count\": 448}, {\"HomeTeam\": \"Brentford\", \"Card Type\": \"Yellow Cards\", \"Count\": 111}, {\"HomeTeam\": \"Burnley\", \"Card Type\": \"Yellow Cards\", \"Count\": 263}, {\"HomeTeam\": \"Sheffield United\", \"Card Type\": \"Yellow Cards\", \"Count\": 141}, {\"HomeTeam\": \"Crystal Palace\", \"Card Type\": \"Yellow Cards\", \"Count\": 392}, {\"HomeTeam\": \"Wolves\", \"Card Type\": \"Yellow Cards\", \"Count\": 348}, {\"HomeTeam\": \"Hull\", \"Card Type\": \"Yellow Cards\", \"Count\": 143}, {\"HomeTeam\": \"Charlton\", \"Card Type\": \"Yellow Cards\", \"Count\": 158}, {\"HomeTeam\": \"Chelsea\", \"Card Type\": \"Yellow Cards\", \"Count\": 668}, {\"HomeTeam\": \"Barnsley\", \"Card Type\": \"Yellow Cards\", \"Count\": 0}, {\"HomeTeam\": \"Blackpool\", \"Card Type\": \"Yellow Cards\", \"Count\": 22}, {\"HomeTeam\": \"Stoke\", \"Card Type\": \"Yellow Cards\", \"Count\": 317}, {\"HomeTeam\": \"Bolton\", \"Card Type\": \"Yellow Cards\", \"Count\": 296}, {\"HomeTeam\": \"QPR\", \"Card Type\": \"Yellow Cards\", \"Count\": 87}, {\"HomeTeam\": \"Bournemouth\", \"Card Type\": \"Yellow Cards\", \"Count\": 239}, {\"HomeTeam\": \"Tottenham\", \"Card Type\": \"Yellow Cards\", \"Count\": 653}, {\"HomeTeam\": \"Swindon\", \"Card Type\": \"Yellow Cards\", \"Count\": 0}, {\"HomeTeam\": \"Sheffield Weds\", \"Card Type\": \"Yellow Cards\", \"Count\": 0}, {\"HomeTeam\": \"Huddersfield\", \"Card Type\": \"Yellow Cards\", \"Count\": 53}, {\"HomeTeam\": \"Portsmouth\", \"Card Type\": \"Yellow Cards\", \"Count\": 194}, {\"HomeTeam\": \"Birmingham\", \"Card Type\": \"Yellow Cards\", \"Count\": 191}, {\"HomeTeam\": \"Derby\", \"Card Type\": \"Yellow Cards\", \"Count\": 97}, {\"HomeTeam\": \"Wigan\", \"Card Type\": \"Yellow Cards\", \"Count\": 229}, {\"HomeTeam\": \"Brighton\", \"Card Type\": \"Yellow Cards\", \"Count\": 247}, {\"HomeTeam\": \"Cardiff\", \"Card Type\": \"Yellow Cards\", \"Count\": 58}, {\"HomeTeam\": \"Brighton & Hove Albion\", \"Card Type\": \"Yellow Cards\", \"Count\": 0}, {\"HomeTeam\": \"Oldham\", \"Card Type\": \"Yellow Cards\", \"Count\": 0}, {\"HomeTeam\": \"Leicester\", \"Card Type\": \"Yellow Cards\", \"Count\": 319}, {\"HomeTeam\": \"Fulham\", \"Card Type\": \"Yellow Cards\", \"Count\": 470}, {\"HomeTeam\": \"Ipswich Town\", \"Card Type\": \"Yellow Cards\", \"Count\": 2}, {\"HomeTeam\": \"Aston Villa\", \"Card Type\": \"Yellow Cards\", \"Count\": 621}, {\"HomeTeam\": \"Leeds\", \"Card Type\": \"Yellow Cards\", \"Count\": 244}, {\"HomeTeam\": \"Man City\", \"Card Type\": \"Yellow Cards\", \"Count\": 565}, {\"HomeTeam\": \"West Brom\", \"Card Type\": \"Yellow Cards\", \"Count\": 359}, {\"HomeTeam\": \"Luton\", \"Card Type\": \"Yellow Cards\", \"Count\": 37}, {\"HomeTeam\": \"Watford\", \"Card Type\": \"Yellow Cards\", \"Count\": 261}, {\"HomeTeam\": \"Arsenal\", \"Card Type\": \"Yellow Cards\", \"Count\": 648}, {\"HomeTeam\": \"Liverpool\", \"Card Type\": \"Yellow Cards\", \"Count\": 491}, {\"HomeTeam\": \"Everton\", \"Card Type\": \"Yellow Cards\", \"Count\": 690}, {\"HomeTeam\": \"Wimbledon\", \"Card Type\": \"Yellow Cards\", \"Count\": 0}, {\"HomeTeam\": \"Middlesbrough\", \"Card Type\": \"Yellow Cards\", \"Count\": 272}, {\"HomeTeam\": \"Ipswich\", \"Card Type\": \"Yellow Cards\", \"Count\": 49}, {\"HomeTeam\": \"West Ham\", \"Card Type\": \"Yellow Cards\", \"Count\": 646}, {\"HomeTeam\": \"Man United\", \"Card Type\": \"Yellow Cards\", \"Count\": 650}, {\"HomeTeam\": \"Reading\", \"Card Type\": \"Yellow Cards\", \"Count\": 65}, {\"HomeTeam\": \"Southampton\", \"Card Type\": \"Yellow Cards\", \"Count\": 416}, {\"HomeTeam\": \"Blackburn\", \"Card Type\": \"Red Cards\", \"Count\": 23}, {\"HomeTeam\": \"Nott'm Forest\", \"Card Type\": \"Red Cards\", \"Count\": 2}, {\"HomeTeam\": \"Newcastle\", \"Card Type\": \"Red Cards\", \"Count\": 30}, {\"HomeTeam\": \"Coventry\", \"Card Type\": \"Red Cards\", \"Count\": 3}, {\"HomeTeam\": \"Norwich\", \"Card Type\": \"Red Cards\", \"Count\": 7}, {\"HomeTeam\": \"Bradford\", \"Card Type\": \"Red Cards\", \"Count\": 0}, {\"HomeTeam\": \"Swansea\", \"Card Type\": \"Red Cards\", \"Count\": 6}, {\"HomeTeam\": \"Sunderland\", \"Card Type\": \"Red Cards\", \"Count\": 17}, {\"HomeTeam\": \"Brentford\", \"Card Type\": \"Red Cards\", \"Count\": 4}, {\"HomeTeam\": \"Burnley\", \"Card Type\": \"Red Cards\", \"Count\": 1}, {\"HomeTeam\": \"Sheffield United\", \"Card Type\": \"Red Cards\", \"Count\": 5}, {\"HomeTeam\": \"Crystal Palace\", \"Card Type\": \"Red Cards\", \"Count\": 11}, {\"HomeTeam\": \"Wolves\", \"Card Type\": \"Red Cards\", \"Count\": 12}, {\"HomeTeam\": \"Hull\", \"Card Type\": \"Red Cards\", \"Count\": 12}, {\"HomeTeam\": \"Charlton\", \"Card Type\": \"Red Cards\", \"Count\": 13}, {\"HomeTeam\": \"Chelsea\", \"Card Type\": \"Red Cards\", \"Count\": 27}, {\"HomeTeam\": \"Barnsley\", \"Card Type\": \"Red Cards\", \"Count\": 0}, {\"HomeTeam\": \"Blackpool\", \"Card Type\": \"Red Cards\", \"Count\": 0}, {\"HomeTeam\": \"Stoke\", \"Card Type\": \"Red Cards\", \"Count\": 14}, {\"HomeTeam\": \"Bolton\", \"Card Type\": \"Red Cards\", \"Count\": 17}, {\"HomeTeam\": \"QPR\", \"Card Type\": \"Red Cards\", \"Count\": 9}, {\"HomeTeam\": \"Bournemouth\", \"Card Type\": \"Red Cards\", \"Count\": 7}, {\"HomeTeam\": \"Tottenham\", \"Card Type\": \"Red Cards\", \"Count\": 22}, {\"HomeTeam\": \"Swindon\", \"Card Type\": \"Red Cards\", \"Count\": 0}, {\"HomeTeam\": \"Sheffield Weds\", \"Card Type\": \"Red Cards\", \"Count\": 0}, {\"HomeTeam\": \"Huddersfield\", \"Card Type\": \"Red Cards\", \"Count\": 5}, {\"HomeTeam\": \"Portsmouth\", \"Card Type\": \"Red Cards\", \"Count\": 12}, {\"HomeTeam\": \"Birmingham\", \"Card Type\": \"Red Cards\", \"Count\": 13}, {\"HomeTeam\": \"Derby\", \"Card Type\": \"Red Cards\", \"Count\": 2}, {\"HomeTeam\": \"Wigan\", \"Card Type\": \"Red Cards\", \"Count\": 9}, {\"HomeTeam\": \"Brighton\", \"Card Type\": \"Red Cards\", \"Count\": 7}, {\"HomeTeam\": \"Cardiff\", \"Card Type\": \"Red Cards\", \"Count\": 0}, {\"HomeTeam\": \"Brighton & Hove Albion\", \"Card Type\": \"Red Cards\", \"Count\": 0}, {\"HomeTeam\": \"Oldham\", \"Card Type\": \"Red Cards\", \"Count\": 0}, {\"HomeTeam\": \"Leicester\", \"Card Type\": \"Red Cards\", \"Count\": 15}, {\"HomeTeam\": \"Fulham\", \"Card Type\": \"Red Cards\", \"Count\": 27}, {\"HomeTeam\": \"Ipswich Town\", \"Card Type\": \"Red Cards\", \"Count\": 0}, {\"HomeTeam\": \"Aston Villa\", \"Card Type\": \"Red Cards\", \"Count\": 26}, {\"HomeTeam\": \"Leeds\", \"Card Type\": \"Red Cards\", \"Count\": 8}, {\"HomeTeam\": \"Man City\", \"Card Type\": \"Red Cards\", \"Count\": 28}, {\"HomeTeam\": \"West Brom\", \"Card Type\": \"Red Cards\", \"Count\": 13}, {\"HomeTeam\": \"Luton\", \"Card Type\": \"Red Cards\", \"Count\": 0}, {\"HomeTeam\": \"Watford\", \"Card Type\": \"Red Cards\", \"Count\": 13}, {\"HomeTeam\": \"Arsenal\", \"Card Type\": \"Red Cards\", \"Count\": 27}, {\"HomeTeam\": \"Liverpool\", \"Card Type\": \"Red Cards\", \"Count\": 19}, {\"HomeTeam\": \"Everton\", \"Card Type\": \"Red Cards\", \"Count\": 35}, {\"HomeTeam\": \"Wimbledon\", \"Card Type\": \"Red Cards\", \"Count\": 0}, {\"HomeTeam\": \"Middlesbrough\", \"Card Type\": \"Red Cards\", \"Count\": 12}, {\"HomeTeam\": \"Ipswich\", \"Card Type\": \"Red Cards\", \"Count\": 2}, {\"HomeTeam\": \"West Ham\", \"Card Type\": \"Red Cards\", \"Count\": 18}, {\"HomeTeam\": \"Man United\", \"Card Type\": \"Red Cards\", \"Count\": 16}, {\"HomeTeam\": \"Reading\", \"Card Type\": \"Red Cards\", \"Count\": 5}, {\"HomeTeam\": \"Southampton\", \"Card Type\": \"Red Cards\", \"Count\": 28}], \"data-c76252132ca7fb738f6d104094e7ba42\": [{\"HomeTeam\": \"Middlesbrough\", \"Wins\": 102}, {\"HomeTeam\": \"Portsmouth\", \"Wins\": 54}, {\"HomeTeam\": \"Wolves\", \"Wins\": 74}, {\"HomeTeam\": \"Cardiff\", \"Wins\": 11}, {\"HomeTeam\": \"Arsenal\", \"Wins\": 396}, {\"HomeTeam\": \"Liverpool\", \"Wins\": 385}, {\"HomeTeam\": \"Wigan\", \"Wins\": 48}, {\"HomeTeam\": \"Newcastle\", \"Wins\": 282}, {\"HomeTeam\": \"Ipswich\", \"Wins\": 28}, {\"HomeTeam\": \"Blackpool\", \"Wins\": 5}, {\"HomeTeam\": \"Stoke\", \"Wins\": 81}, {\"HomeTeam\": \"Derby\", \"Wins\": 48}, {\"HomeTeam\": \"Fulham\", \"Wins\": 141}, {\"HomeTeam\": \"Bradford\", \"Wins\": 10}, {\"HomeTeam\": \"Southampton\", \"Wins\": 171}, {\"HomeTeam\": \"Luton\", \"Wins\": 4}, {\"HomeTeam\": \"Swansea\", \"Wins\": 51}, {\"HomeTeam\": \"Watford\", \"Wins\": 45}, {\"HomeTeam\": \"Man City\", \"Wins\": 310}, {\"HomeTeam\": \"Huddersfield\", \"Wins\": 8}, {\"HomeTeam\": \"Burnley\", \"Wins\": 54}, {\"HomeTeam\": \"QPR\", \"Wins\": 40}, {\"HomeTeam\": \"Tottenham\", \"Wins\": 329}, {\"HomeTeam\": \"Norwich\", \"Wins\": 53}, {\"HomeTeam\": \"Sheffield United\", \"Wins\": 30}, {\"HomeTeam\": \"Man United\", \"Wins\": 418}, {\"HomeTeam\": \"Swindon\", \"Wins\": 4}, {\"HomeTeam\": \"Barnsley\", \"Wins\": 7}, {\"HomeTeam\": \"Charlton\", \"Wins\": 58}, {\"HomeTeam\": \"West Ham\", \"Wins\": 235}, {\"HomeTeam\": \"Leeds\", \"Wins\": 123}, {\"HomeTeam\": \"Bolton\", \"Wins\": 93}, {\"HomeTeam\": \"West Brom\", \"Wins\": 76}, {\"HomeTeam\": \"Leicester\", \"Wins\": 132}, {\"HomeTeam\": \"Sheffield Weds\", \"Wins\": 54}, {\"HomeTeam\": \"Sunderland\", \"Wins\": 98}, {\"HomeTeam\": \"Brentford\", \"Wins\": 29}, {\"HomeTeam\": \"Wimbledon\", \"Wins\": 53}, {\"HomeTeam\": \"Oldham\", \"Wins\": 5}, {\"HomeTeam\": \"Blackburn\", \"Wins\": 156}, {\"HomeTeam\": \"Chelsea\", \"Wins\": 366}, {\"HomeTeam\": \"Everton\", \"Wins\": 276}, {\"HomeTeam\": \"Birmingham\", \"Wins\": 50}, {\"HomeTeam\": \"Bournemouth\", \"Wins\": 52}, {\"HomeTeam\": \"Nott'm Forest\", \"Wins\": 47}, {\"HomeTeam\": \"Crystal Palace\", \"Wins\": 88}, {\"HomeTeam\": \"Aston Villa\", \"Wins\": 225}, {\"HomeTeam\": \"Brighton\", \"Wins\": 48}, {\"HomeTeam\": \"Coventry\", \"Wins\": 58}, {\"HomeTeam\": \"Hull\", \"Wins\": 29}, {\"HomeTeam\": \"Reading\", \"Wins\": 23}]}}, {\"mode\": \"vega-lite\"});\n",
       "</script>"
      ],
      "text/plain": [
       "alt.HConcatChart(...)"
      ]
     },
     "execution_count": 6,
     "metadata": {},
     "output_type": "execute_result"
    }
   ],
   "source": [
    "plot_cards()|plot_team_wins()"
   ]
  },
  {
   "cell_type": "markdown",
   "metadata": {},
   "source": [
    "### Final Evaluation Approach\n",
    "\n",
    "To evaluate the effectiveness of the visualizations, I recruited three individuals: a classmate, a colleague with a casual interest in soccer, and a friend who is an avid soccer fan. The evaluation followed this procedure:\n",
    "\n",
    "- Participants were given access to the visualizations and a brief description of their purpose.\n",
    "\n",
    "- They were asked to explore the interactive elements and interpret key trends.\n",
    "\n",
    "- Feedback was collected regarding clarity, ease of use, and insights gained.\n",
    "\n",
    "### Results:\n",
    "\n",
    "- All participants found the visualizations intuitive and easy to navigate.\n",
    "\n",
    "- The line chart was praised for showing season-wide trends clearly.\n",
    "\n",
    "- The scatter plot was well-received, but one participant suggested adding a color legend for better team identification.\n",
    "\n",
    "- Some feedback suggested adding filters to allow users to focus on specific seasons or teams.\n",
    "\n"
   ]
  },
  {
   "cell_type": "markdown",
   "metadata": {},
   "source": [
    "### Synthesis of Findings and Future Refinements\n",
    "\n",
    "#### What Worked Well:\n",
    "\n",
    "- Interactivity enhanced user engagement and allowed for deeper exploration.\n",
    "\n",
    "- The choice of charts effectively conveyed key insights.\n",
    "\n",
    "- Tooltips provided additional information, making the data more accessible.\n",
    "\n",
    "#### Areas for Improvement:\n",
    "\n",
    "- Implementing dropdown filters to allow users to select specific teams or seasons.\n",
    "\n",
    "- Improving the color scheme and legends for better differentiation between teams.\n",
    "\n",
    "- Adding annotations to highlight key events or trends in the data."
   ]
  }
 ],
 "metadata": {
  "kernelspec": {
   "display_name": "Python 3",
   "language": "python",
   "name": "python3"
  },
  "language_info": {
   "codemirror_mode": {
    "name": "ipython",
    "version": 3
   },
   "file_extension": ".py",
   "mimetype": "text/x-python",
   "name": "python",
   "nbconvert_exporter": "python",
   "pygments_lexer": "ipython3",
   "version": "3.11.4"
  }
 },
 "nbformat": 4,
 "nbformat_minor": 2
}
